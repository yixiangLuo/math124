{
 "cells": [
  {
   "cell_type": "markdown",
   "metadata": {},
   "source": [
    "# Formatting a string\n",
    "\n",
    "Print out a string with desired format: use macro `@printf` and a special formatting string leading by `%`."
   ]
  },
  {
   "cell_type": "code",
   "execution_count": 25,
   "metadata": {},
   "outputs": [
    {
     "name": "stdout",
     "output_type": "stream",
     "text": [
      "print as a string: 100\n",
      "print as a character: d\n",
      "\n",
      "print as a integer: 100\n",
      "print as a floating number: 100.12\n",
      "print as a scientific representation number: 100.12340\n",
      "print as a scientific number: 1.001234e+02"
     ]
    }
   ],
   "source": [
    "# examples\n",
    "\n",
    "using Printf\n",
    "\n",
    "number = 1234.12345\n",
    "\n",
    "@printf(\"print as a string: %s\\n\", 100)\n",
    "@printf(\"print as a character: %c\\n\\n\", 100)\n",
    "\n",
    "@printf(\"print as a integer: %d\\n\", 100.1234)\n",
    "@printf(\"print as a floating number: %.2f\\n\", 100.1234)\n",
    "@printf(\"print as a scientific representation number: %.5f\\n\", 100.1234)\n",
    "@printf(\"print as a scientific number: %e\", 100.1234)"
   ]
  },
  {
   "cell_type": "markdown",
   "metadata": {},
   "source": [
    "# Special characters\n",
    "\n",
    "Julia special characters/string are led by one of the three symbols: `\\`, `%`, and `$`. Be careful when you have them in your string."
   ]
  },
  {
   "cell_type": "code",
   "execution_count": 29,
   "metadata": {},
   "outputs": [
    {
     "name": "stdout",
     "output_type": "stream",
     "text": [
      "a\n",
      "\tb\n",
      "0 - 0.1\n",
      "3\n"
     ]
    }
   ],
   "source": [
    "# general\n",
    "println(\"a\\n\\tb\")\n",
    "\n",
    "# formating\n",
    "using Printf\n",
    "@printf(\"%d - %.1f\\n\", 0.12, 0.12)\n",
    "\n",
    "# evaluation\n",
    "println(\"$(1 + 2)\")"
   ]
  },
  {
   "cell_type": "markdown",
   "metadata": {},
   "source": [
    "How do you print out these leading symbols themselves? See below."
   ]
  },
  {
   "cell_type": "code",
   "execution_count": 35,
   "metadata": {},
   "outputs": [
    {
     "name": "stdout",
     "output_type": "stream",
     "text": [
      "\\ $\n",
      "%, 0.1\n"
     ]
    }
   ],
   "source": [
    "println(\"\\\\ \\$\")\n",
    "\n",
    "using Printf\n",
    "@printf(\"%%, %.1f\\n\", 0.12)"
   ]
  },
  {
   "cell_type": "markdown",
   "metadata": {},
   "source": [
    "# I/O Buffer\n",
    "\n",
    "For performance reason, Julia (and many other languages) would store the output in a buffer and stream it out all togehter once the buffer is full."
   ]
  },
  {
   "cell_type": "code",
   "execution_count": 44,
   "metadata": {},
   "outputs": [],
   "source": [
    "# example of buffering, you will see nothing in output.txt\n",
    "\n",
    "io = open(\"output.txt\", \"w\");\n",
    "\n",
    "for i = 1:5\n",
    "    write(io, \"now $i\\n\");\n",
    "end"
   ]
  },
  {
   "cell_type": "markdown",
   "metadata": {},
   "source": [
    "Either way below will really write into output.txt."
   ]
  },
  {
   "cell_type": "code",
   "execution_count": 45,
   "metadata": {},
   "outputs": [],
   "source": [
    "# flush the buffer\n",
    "flush(io)"
   ]
  },
  {
   "cell_type": "code",
   "execution_count": null,
   "metadata": {},
   "outputs": [],
   "source": [
    "# close the file\n",
    "close(io)"
   ]
  },
  {
   "cell_type": "markdown",
   "metadata": {},
   "source": [
    "This could happen even to the standard output, e.g. when printing to the screen. The default behavior depends on the version of Julia and your operation system. So remember to flush the buffer (for the standard output, it is `flush(stdout)`) if you want to"
   ]
  }
 ],
 "metadata": {
  "kernelspec": {
   "display_name": "Julia 1.5.3",
   "language": "julia",
   "name": "julia-1.5"
  },
  "language_info": {
   "file_extension": ".jl",
   "mimetype": "application/julia",
   "name": "julia",
   "version": "1.5.3"
  }
 },
 "nbformat": 4,
 "nbformat_minor": 4
}
