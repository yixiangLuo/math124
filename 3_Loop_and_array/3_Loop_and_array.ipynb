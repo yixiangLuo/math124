{
 "cells": [
  {
   "cell_type": "markdown",
   "metadata": {},
   "source": [
    "# Loop and array\n",
    "\n",
    "## coding style: indent\n",
    "\n",
    "Align the start and then end of a code block. Indent the content of the code block by 1 tab."
   ]
  },
  {
   "cell_type": "code",
   "execution_count": null,
   "metadata": {},
   "outputs": [],
   "source": [
    "# good example\n",
    "for i = 1:5\n",
    "    for j = 1:i\n",
    "        j += 1\n",
    "        if i ==j\n",
    "            println(i)\n",
    "        end\n",
    "    end\n",
    "end"
   ]
  },
  {
   "cell_type": "code",
   "execution_count": null,
   "metadata": {},
   "outputs": [],
   "source": [
    "# bad example\n",
    "for i = 1:5\n",
    "    for j = 1:i\n",
    "        j += 1\n",
    "    if i ==j\n",
    "        println(i) end\n",
    "    end\n",
    "end"
   ]
  },
  {
   "cell_type": "markdown",
   "metadata": {},
   "source": [
    "## Ways to loop\n",
    "\n",
    "- `for` or `while` loop applied to each element.  \n",
    " **prons**: flexible; **cons**: less efficient.\n",
    "\n",
    "- Vectorized operations.  \n",
    " **prons**: efficient, better readability in some cases; **cons**: less flexible;\n",
    "\n",
    "- Recursion. Will learn in the near future."
   ]
  },
  {
   "cell_type": "code",
   "execution_count": 5,
   "metadata": {},
   "outputs": [
    {
     "name": "stdout",
     "output_type": "stream",
     "text": [
      "  15.499 μs (496 allocations: 9.31 KiB)\n",
      "  450.430 ns (6 allocations: 2.70 KiB)\n"
     ]
    },
    {
     "data": {
      "text/plain": [
       "-1.6005666065789968e34"
      ]
     },
     "execution_count": 5,
     "metadata": {},
     "output_type": "execute_result"
    }
   ],
   "source": [
    "using Random            # sample random numbers\n",
    "using BenchmarkTools    # measure run time\n",
    "\n",
    "Random.seed!(1)         # for reproducibility\n",
    "\n",
    "# a vector of 100 random numbers\n",
    "x = rand(100) * 10\n",
    "\n",
    "# compare running time of different ways doing the same task\n",
    "\n",
    "# elementwise loop\n",
    "@btime begin\n",
    "    diff_prod = 1\n",
    "    for i = 1:(length(x)-1)\n",
    "        diff_prod *= x[i+1] - x[i]\n",
    "    end\n",
    "end\n",
    "\n",
    "# vectorized operation\n",
    "@btime begin\n",
    "    diff_prod = prod(x[2:end] - x[1:end-1])\n",
    "end\n",
    "\n",
    "# vectorized operation is better in both time and memory\n",
    "# (1 us = 1000 ns)"
   ]
  }
 ],
 "metadata": {
  "kernelspec": {
   "display_name": "Julia 1.5.3",
   "language": "julia",
   "name": "julia-1.5"
  },
  "language_info": {
   "file_extension": ".jl",
   "mimetype": "application/julia",
   "name": "julia",
   "version": "1.5.3"
  }
 },
 "nbformat": 4,
 "nbformat_minor": 4
}
