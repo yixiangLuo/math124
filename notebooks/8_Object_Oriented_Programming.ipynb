{
 "cells": [
  {
   "cell_type": "markdown",
   "metadata": {},
   "source": [
    "# Object-Oriented Programming (OOP)\n",
    "\n",
    "## Procedure oriented programming (POP)\n",
    "\n",
    "What you have done in this class is POP: variables + functions to accomplish some tasks. It seems to work perfectly so far.\n",
    "\n",
    "Now suppose you are a programmer for a car-racing video game. How would you code it in POP?"
   ]
  },
  {
   "cell_type": "code",
   "execution_count": 1,
   "metadata": {},
   "outputs": [
    {
     "data": {
      "text/plain": [
       "turn_right! (generic function with 1 method)"
      ]
     },
     "execution_count": 1,
     "metadata": {},
     "output_type": "execute_result"
    }
   ],
   "source": [
    "# car variables\n",
    "car1_position = [1, 0]\n",
    "car1_color = \"red\"\n",
    "car1_speed = 10\n",
    "\n",
    "car2_position = [2, 0]\n",
    "car2_color = \"green\"\n",
    "car2_speed = 11\n",
    "\n",
    "# more ...\n",
    "\n",
    "# functions related to cars\n",
    "function render(car_position, car_color)\n",
    "    # ...\n",
    "end\n",
    "\n",
    "function drive_forth!(position, speed)\n",
    "    # ...\n",
    "end\n",
    "\n",
    "function turn_left!(position, speed)\n",
    "    # ...\n",
    "end\n",
    "\n",
    "function turn_right!(position, speed)\n",
    "    # ...\n",
    "end\n",
    "\n",
    "function brake!(position, speed)\n",
    "    # ...\n",
    "end"
   ]
  },
  {
   "cell_type": "markdown",
   "metadata": {},
   "source": [
    "What's the problem?\n",
    "- Variables?\n",
    "- Functions?"
   ]
  },
  {
   "cell_type": "markdown",
   "metadata": {},
   "source": [
    "## Object-oriented programming\n",
    "\n",
    "Assemble attributes of an object (variables) and the method acting on it (functions) into one structure (class)."
   ]
  },
  {
   "cell_type": "code",
   "execution_count": null,
   "metadata": {},
   "outputs": [],
   "source": [
    "# Warning: the following is python code, not Julia\n",
    "\n",
    "# define an abstract class that describe a car\n",
    "class Car:\n",
    "\n",
    "    # attributes\n",
    "    position\n",
    "    color\n",
    "    speed\n",
    "\n",
    "    # methods\n",
    "\n",
    "    ## construction method\n",
    "    def __init__(self, pos, color, speed):\n",
    "        self.position = pos\n",
    "        self.color = color\n",
    "        self.speed = speed\n",
    "\n",
    "    def render(self):\n",
    "        # use self.color and self.position\n",
    "\n",
    "    def drive_forth(self):\n",
    "        # use self.position and self.speed\n",
    "\n",
    "    ## more methods ...\n",
    "\n",
    "\n",
    "\n",
    "# use abstract class \"Car\" to create realized objects of car\n",
    "car1 = Car([1, 0], \"red\", 10)\n",
    "car2 = Car([2, 0], \"green\", 11)\n",
    "\n",
    "# drive forth car1\n",
    "car1.drive_forth()"
   ]
  },
  {
   "cell_type": "markdown",
   "metadata": {},
   "source": [
    "## Is Julia OOP?\n",
    "\n",
    "Can we use `struct` as `class`?"
   ]
  },
  {
   "cell_type": "code",
   "execution_count": 10,
   "metadata": {},
   "outputs": [
    {
     "name": "stdout",
     "output_type": "stream",
     "text": [
      "car position: [1, 0]; color: red\n",
      "car position: [1, 10]; color: red\n"
     ]
    }
   ],
   "source": [
    "struct Car\n",
    "    # attributes\n",
    "    position\n",
    "    color\n",
    "    speed\n",
    "    \n",
    "    # construction method\n",
    "    Car(pos, color, speed) = new(pos, color, speed)\n",
    "end\n",
    "\n",
    "car1 = Car([1, 0], \"red\", 10)\n",
    "car2 = Car([2, 0], \"green\", 11)\n",
    "\n",
    "\n",
    "# looks nice?\n",
    "# what about other methods?\n",
    "\n",
    "function render(car::Car)\n",
    "    println(\"car position: \", car.position, \"; color: \",car.color)\n",
    "end\n",
    "\n",
    "function drive_forth!(car::Car)\n",
    "    car.position[2] += car.speed\n",
    "end\n",
    "\n",
    "\n",
    "render(car1)\n",
    "drive_forth!(car1)\n",
    "render(car1)"
   ]
  },
  {
   "cell_type": "markdown",
   "metadata": {},
   "source": [
    "**Julia is not an OOP language**, but in between OOP and POP, similar to C.\n",
    "\n",
    "It lacks some important features of OOP, e.g. class inheritance.\n",
    "\n",
    "There are ways for Julia to mimic OOP behaviors. See [this discussion](https://discourse.julialang.org/t/composition-and-inheritance-the-julian-way/11231) if you are interested.\n",
    "\n",
    "**Why Julia is not OOP?**\n",
    "- Efficiency.\n",
    "- In most cases, programming for math or scientific purpose doesn't have a too complicated structure that POP is not able to handle.\n",
    "- OOP is not a savior for everyone, [some even \"hate\" it](https://medium.com/@cscalfani/goodbye-object-oriented-programming-a59cda4c0e53)."
   ]
  }
 ],
 "metadata": {
  "kernelspec": {
   "display_name": "Julia 1.5.3",
   "language": "julia",
   "name": "julia-1.5"
  },
  "language_info": {
   "file_extension": ".jl",
   "mimetype": "application/julia",
   "name": "julia",
   "version": "1.5.3"
  }
 },
 "nbformat": 4,
 "nbformat_minor": 4
}
