{
 "cells": [
  {
   "cell_type": "markdown",
   "metadata": {},
   "source": [
    "# Arbitrary Precision Operations\n",
    "\n",
    "How can a computer of finite capability support arbitrary precision operations?\n",
    "\n",
    "Using dynamic memory allocation. This would make the operations slow.\n",
    "\n",
    "Don't use arbitrary precision numbers if you can.\n",
    "\n",
    "Example from lecture notes: Largest exponential.\n"
   ]
  },
  {
   "cell_type": "code",
   "execution_count": 3,
   "metadata": {},
   "outputs": [
    {
     "name": "stdout",
     "output_type": "stream",
     "text": [
      "  185.920 ms (1213 allocations: 52.11 MiB)\n",
      "Bigint: Largest value on row 5: 780495^510032\n",
      "  869.808 ns (6 allocations: 256 bytes)\n",
      "Log: Largest value on row 5: 780495^510032\n"
     ]
    }
   ],
   "source": [
    "# import Pkg; Pkg.add(\"BenchmarkTools\")\n",
    "using BenchmarkTools    # measure run time\n",
    "\n",
    "base_exp = [519432 525806; 632382 518061; 78864 613712; 466580 530130; 780495 510032]\n",
    "\n",
    "bases = base_exp[:,1]\n",
    "exponents = base_exp[:,2]\n",
    "\n",
    "# measure runtime\n",
    "@btime begin\n",
    "    max_value, max_idx = findmax(BigInt.(bases) .^ BigInt.(exponents))\n",
    "end\n",
    "\n",
    "# print value\n",
    "max_value, max_idx = findmax(BigInt.(bases) .^ BigInt.(exponents))\n",
    "println(\"Bigint: Largest value on row \", max_idx, \": \", bases[max_idx], \"^\", exponents[max_idx])\n",
    "\n",
    "# measure runtime\n",
    "@btime begin\n",
    "    max_value, max_idx = findmax(exponents .* log.(bases))\n",
    "end\n",
    "\n",
    "# print value\n",
    "max_value, max_idx = findmax(exponents .* log.(bases))\n",
    "println(\"Log: Largest value on row \", max_idx, \": \", bases[max_idx], \"^\", exponents[max_idx])\n",
    "\n",
    "# finite digit operation is much better in both time and memory\n",
    "# (1 ms = 1000,000 ns)"
   ]
  },
  {
   "cell_type": "markdown",
   "metadata": {},
   "source": [
    "## Ways to loop (continue)\n",
    "\n",
    "- `for` or `while` loop applied to each element.  \n",
    " **prons**: flexible; **cons**: less efficient.\n",
    "\n",
    "- Vectorized operations.  \n",
    " **prons**: efficient, better readability in some cases; **cons**: less flexible;\n",
    "\n",
    "- Recursion.  \n",
    " **prons**: logically easy for some tasks; **cons**: inefficient, hard to trace."
   ]
  },
  {
   "cell_type": "code",
   "execution_count": 4,
   "metadata": {},
   "outputs": [
    {
     "name": "stdout",
     "output_type": "stream",
     "text": [
      "  15.515 μs (496 allocations: 9.31 KiB)\n",
      "  434.950 ns (6 allocations: 2.70 KiB)\n",
      "  10.289 μs (99 allocations: 48.11 KiB)\n"
     ]
    },
    {
     "data": {
      "text/plain": [
       "-1.6005666065789959e34"
      ]
     },
     "execution_count": 4,
     "metadata": {},
     "output_type": "execute_result"
    }
   ],
   "source": [
    "using Random            # sample random numbers\n",
    "using BenchmarkTools    # measure run time\n",
    "\n",
    "Random.seed!(1)         # for reproducibility\n",
    "\n",
    "# a vector of 100 random numbers\n",
    "x = rand(100) * 10\n",
    "\n",
    "# compare running time of different ways doing the same task\n",
    "\n",
    "# elementwise loop\n",
    "@btime begin\n",
    "    diff_prod = 1\n",
    "    for i = 1:(length(x)-1)\n",
    "        diff_prod *= x[i+1] - x[i]\n",
    "    end\n",
    "end\n",
    "\n",
    "# vectorized operation\n",
    "@btime begin\n",
    "    diff_prod = prod(x[2:end] - x[1:end-1])\n",
    "end\n",
    "\n",
    "# recursion\n",
    "function calc_diff_prod(x)\n",
    "    if length(x) == 2\n",
    "        return (x[2] - x[1])\n",
    "    end\n",
    "    \n",
    "    return (x[end] - x[end-1]) * calc_diff_prod(x[1:end-1])\n",
    "end\n",
    "\n",
    "@btime begin\n",
    "    diff_prod = calc_diff_prod(x)\n",
    "end\n",
    "\n",
    "# vectorized operation is better in both time and memory\n",
    "# (1 us = 1000 ns)"
   ]
  }
 ],
 "metadata": {
  "kernelspec": {
   "display_name": "Julia 1.5.3",
   "language": "julia",
   "name": "julia-1.5"
  },
  "language_info": {
   "file_extension": ".jl",
   "mimetype": "application/julia",
   "name": "julia",
   "version": "1.5.3"
  }
 },
 "nbformat": 4,
 "nbformat_minor": 4
}
