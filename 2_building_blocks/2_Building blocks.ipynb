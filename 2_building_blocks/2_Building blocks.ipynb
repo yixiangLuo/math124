{
 "cells": [
  {
   "cell_type": "markdown",
   "metadata": {},
   "source": [
    " # Building blocks: variables, functions, conditions, loops\n",
    " \n",
    " \n",
    "## How to pick a good name for variables and functions\n",
    "\n",
    "- Only use letters, numbers, and underscores. Cannot start with a number. e.g. `1sample` is invalid while `one_sample` is good. \n",
    "\n",
    "- Be descriptive. You should be able to tell what does this variable stand for based on its name\n",
    "\n",
    "Conventions:\n",
    "\n",
    "Pick one(s) and be consistent. It is recommended to use different conventions for variables and functions.\n",
    "\n",
    "- lower camel case: `oneTwoThree`\n",
    "\n",
    "- upper camel case: `OneTwoThree`\n",
    "\n",
    "- snake case: `one_two_three` (Julia employs this)\n",
    "\n",
    "- many others, see https://en.wikipedia.org/wiki/Naming_convention_(programming)\n",
    "\n",
    "\n",
    "## Help function and function documentation\n",
    "\n",
    "- Use `?function_name` to print the manual of the function."
   ]
  },
  {
   "cell_type": "code",
   "execution_count": 18,
   "metadata": {},
   "outputs": [
    {
     "name": "stdout",
     "output_type": "stream",
     "text": [
      "search: \u001b[0m\u001b[1ms\u001b[22m\u001b[0m\u001b[1mi\u001b[22m\u001b[0m\u001b[1mg\u001b[22m\u001b[0m\u001b[1mn\u001b[22m \u001b[0m\u001b[1ms\u001b[22m\u001b[0m\u001b[1mi\u001b[22m\u001b[0m\u001b[1mg\u001b[22m\u001b[0m\u001b[1mn\u001b[22med \u001b[0m\u001b[1mS\u001b[22m\u001b[0m\u001b[1mi\u001b[22m\u001b[0m\u001b[1mg\u001b[22m\u001b[0m\u001b[1mn\u001b[22med \u001b[0m\u001b[1ms\u001b[22m\u001b[0m\u001b[1mi\u001b[22m\u001b[0m\u001b[1mg\u001b[22m\u001b[0m\u001b[1mn\u001b[22mbit \u001b[0m\u001b[1ms\u001b[22m\u001b[0m\u001b[1mi\u001b[22m\u001b[0m\u001b[1mg\u001b[22m\u001b[0m\u001b[1mn\u001b[22mificand Un\u001b[0m\u001b[1ms\u001b[22m\u001b[0m\u001b[1mi\u001b[22m\u001b[0m\u001b[1mg\u001b[22m\u001b[0m\u001b[1mn\u001b[22med un\u001b[0m\u001b[1ms\u001b[22m\u001b[0m\u001b[1mi\u001b[22m\u001b[0m\u001b[1mg\u001b[22m\u001b[0m\u001b[1mn\u001b[22med flip\u001b[0m\u001b[1ms\u001b[22m\u001b[0m\u001b[1mi\u001b[22m\u001b[0m\u001b[1mg\u001b[22m\u001b[0m\u001b[1mn\u001b[22m\n",
      "\n"
     ]
    },
    {
     "data": {
      "text/latex": [
       "\\begin{verbatim}\n",
       "sign(x)\n",
       "\\end{verbatim}\n",
       "Return zero if \\texttt{x==0} and $x/|x|$ otherwise (i.e., ±1 for real \\texttt{x}).\n",
       "\n"
      ],
      "text/markdown": [
       "```\n",
       "sign(x)\n",
       "```\n",
       "\n",
       "Return zero if `x==0` and $x/|x|$ otherwise (i.e., ±1 for real `x`).\n"
      ],
      "text/plain": [
       "\u001b[36m  sign(x)\u001b[39m\n",
       "\n",
       "  Return zero if \u001b[36mx==0\u001b[39m and \u001b[35mx/|x|\u001b[39m otherwise (i.e., ±1 for real \u001b[36mx\u001b[39m)."
      ]
     },
     "execution_count": 18,
     "metadata": {},
     "output_type": "execute_result"
    }
   ],
   "source": [
    "?sign"
   ]
  },
  {
   "cell_type": "markdown",
   "metadata": {},
   "source": [
    "- Document your function in a similar way:"
   ]
  },
  {
   "cell_type": "code",
   "execution_count": 7,
   "metadata": {},
   "outputs": [
    {
     "data": {
      "text/plain": [
       "my_sign"
      ]
     },
     "execution_count": 7,
     "metadata": {},
     "output_type": "execute_result"
    }
   ],
   "source": [
    "\"\"\"\n",
    "Return 1 if `x==0` and ``\\\\frac{x}{|x|}`` otherwise.\n",
    "\"\"\"\n",
    "function my_sign(x)\n",
    "    if x >= 0\n",
    "        return 1\n",
    "    else\n",
    "        return -1\n",
    "    end\n",
    "end"
   ]
  },
  {
   "cell_type": "code",
   "execution_count": 9,
   "metadata": {},
   "outputs": [
    {
     "name": "stdout",
     "output_type": "stream",
     "text": [
      "search: \u001b[0m\u001b[1mm\u001b[22m\u001b[0m\u001b[1my\u001b[22m\u001b[0m\u001b[1m_\u001b[22m\u001b[0m\u001b[1ms\u001b[22m\u001b[0m\u001b[1mi\u001b[22m\u001b[0m\u001b[1mg\u001b[22m\u001b[0m\u001b[1mn\u001b[22m\n",
      "\n"
     ]
    },
    {
     "data": {
      "text/latex": [
       "Return 1 if \\texttt{x==0} and $\\frac{x}{|x|}$ otherwise.\n",
       "\n"
      ],
      "text/markdown": [
       "Return 1 if `x==0` and $\\frac{x}{|x|}$ otherwise.\n"
      ],
      "text/plain": [
       "  Return 1 if \u001b[36mx==0\u001b[39m and \u001b[35m\\frac{x}{|x|}\u001b[39m otherwise."
      ]
     },
     "execution_count": 9,
     "metadata": {},
     "output_type": "execute_result"
    }
   ],
   "source": [
    "?my_sign"
   ]
  },
  {
   "cell_type": "markdown",
   "metadata": {},
   "source": [
    "## Variable scope\n",
    "\n",
    "By default, all variables defined inside a function are local varibles, i.e. they only live locally in the function."
   ]
  },
  {
   "cell_type": "code",
   "execution_count": 37,
   "metadata": {},
   "outputs": [
    {
     "name": "stdout",
     "output_type": "stream",
     "text": [
      "'a' inside function: 10\n",
      "'a' returned by function: 10\n",
      "'a' outside function: 1\n"
     ]
    }
   ],
   "source": [
    "# global variables\n",
    "a = 1\n",
    "\n",
    "function test_scope()\n",
    "    a = 10\n",
    "    println(\"'a' inside function: \", a)\n",
    "    return a\n",
    "end\n",
    "\n",
    "println(\"'a' returned by function: \", test_scope())\n",
    "println(\"'a' outside function: \", a)\n",
    "\n",
    "#=\n",
    "# what if I want to use the function to change the value of 'a'?\n",
    "a = test_scope()\n",
    "println(\"value of 'a' changed: \", a)\n",
    "=#"
   ]
  },
  {
   "cell_type": "markdown",
   "metadata": {},
   "source": [
    "Why variable scope? Make your function to be stand-alone."
   ]
  },
  {
   "cell_type": "code",
   "execution_count": 61,
   "metadata": {},
   "outputs": [
    {
     "name": "stdout",
     "output_type": "stream",
     "text": [
      "'a' outside function: 1\n",
      "'a+b' returned by function: 2\n"
     ]
    }
   ],
   "source": [
    "# bad example\n",
    "a = 1\n",
    "\n",
    "function use_global_var(b)\n",
    "    # when 'a' is undefined in the function, you can access its value as a global variable\n",
    "    return a+b\n",
    "end\n",
    "\n",
    "println(\"'a' outside function: \", a)\n",
    "println(\"'a+b' returned by function: \", use_global_var(1))"
   ]
  },
  {
   "cell_type": "code",
   "execution_count": 35,
   "metadata": {},
   "outputs": [
    {
     "name": "stdout",
     "output_type": "stream",
     "text": [
      "'a+b' returned by function: 2\n"
     ]
    }
   ],
   "source": [
    "# good example\n",
    "a_global = 1\n",
    "\n",
    "function use_arg(a, b)\n",
    "    return a+b\n",
    "end\n",
    "\n",
    "println(\"'a+b' returned by function: \", use_arg(a_global, 1))"
   ]
  },
  {
   "cell_type": "markdown",
   "metadata": {},
   "source": [
    "**Good practice**: Don't use global variables if you can. Instead, use arguments and returned values."
   ]
  },
  {
   "cell_type": "markdown",
   "metadata": {},
   "source": [
    "## Conditioning tips for floating point numbers\n",
    "\n",
    "When comparing floating point numbers `a == b`, it's not recommended to use `a == b`, instead use `abs(a-b) < tol`, where `tol` is a small number that satisfies the precision you need, e.g. `tol = 1e-8`."
   ]
  },
  {
   "cell_type": "code",
   "execution_count": 58,
   "metadata": {},
   "outputs": [
    {
     "name": "stdout",
     "output_type": "stream",
     "text": [
      "false\n"
     ]
    }
   ],
   "source": [
    "# should be true but false\n",
    "println(1 + 2e-16 - 1e-16 - 1e-16 == 1)"
   ]
  },
  {
   "cell_type": "code",
   "execution_count": 59,
   "metadata": {},
   "outputs": [
    {
     "name": "stdout",
     "output_type": "stream",
     "text": [
      "true\n"
     ]
    }
   ],
   "source": [
    "# a better way\n",
    "println(abs((1 + 2e-16 - 1e-16 - 1e-16) - 1) < 1e-10)"
   ]
  },
  {
   "cell_type": "code",
   "execution_count": 60,
   "metadata": {},
   "outputs": [
    {
     "name": "stdout",
     "output_type": "stream",
     "text": [
      "true\n"
     ]
    }
   ],
   "source": [
    "# should be false but true\n",
    "println(1 + 1e-16 == 1)"
   ]
  }
 ],
 "metadata": {
  "kernelspec": {
   "display_name": "Julia 1.5.3",
   "language": "julia",
   "name": "julia-1.5"
  },
  "language_info": {
   "file_extension": ".jl",
   "mimetype": "application/julia",
   "name": "julia",
   "version": "1.5.3"
  }
 },
 "nbformat": 4,
 "nbformat_minor": 4
}
