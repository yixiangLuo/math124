{
 "cells": [
  {
   "cell_type": "markdown",
   "metadata": {},
   "source": [
    "# Logistics\n",
    "\n",
    "\n",
    "## Contact information\n",
    "\n",
    "- GSI: Yixiang Luo\n",
    "\n",
    "- Email: yixiangluo\\[at\\]\\[berkeley edu\\]  \n",
    "Note email is for administrative questions, e.g. DSP accommodation. For math or programming questions, please ask them during office hours or post them on Piazza.\n",
    "\n",
    "- Discussion: See bCourse for the zoom access.\n",
    "\n",
    "- Office hours: Mon 10-12am, location: see bCourse for the zoom access.\n",
    "\n",
    "\n",
    "## Quiz\n",
    "\n",
    "- Time: Biweakly (see the course website for the schedule), at the start of the discussion (9:10/10:10).  \n",
    "20 min for answering + 10 min for uploading = **30 min in total**.\n",
    "\n",
    "- Content: convering the content from the last quiz to the homework due at the quiz date. Question form similar to your homework, e.g. write code for a task, predict the output of some code, etc.\n",
    "\n",
    "- Location: The quiz will be released and submitted on Gradescope. Let's me know if you are not invited to the Gradescope section.\n",
    "\n",
    "- **Important**: The quizzes are pen-and-paper based. Using computer to run the code in quiz is cheating.\n",
    "\n",
    "- Grade: quiz grade will be curved among your section. There will be **no make up quiz** but the lowest quiz grade will be dropped.\n",
    "\n",
    "## Discussion structure\n",
    "\n",
    "- Further exploration or examples\n",
    "\n",
    "- exercise/HW?\n"
   ]
  },
  {
   "cell_type": "markdown",
   "metadata": {},
   "source": [
    "# Today's content\n",
    "\n",
    "\n",
    "## How to write good code?\n",
    "\n",
    "### be able to run the code in your mind\n",
    "\n",
    "- This is also important in achieving good grade in this course: the quizzes and exams are pen-and paper based.\n",
    "\n",
    "- Bad practice: write some code that might work and hope for the best or ask the GSI to \"debug\" for you.\n",
    "\n",
    "- Good practice: Design the program in your mind and know what will it do. Then type down the code following a good style.\n",
    "\n",
    "### Write in a good style\n",
    "\n",
    "**Code is written for human to read, not for machine.**\n",
    "\n",
    "Basic style bullets:\n",
    "\n",
    "- Space: add space around a binary operator"
   ]
  },
  {
   "cell_type": "code",
   "execution_count": 1,
   "metadata": {},
   "outputs": [
    {
     "data": {
      "text/plain": [
       "2"
      ]
     },
     "execution_count": 1,
     "metadata": {},
     "output_type": "execute_result"
    }
   ],
   "source": [
    "# bad example\n",
    "a=1+1\n",
    "\n",
    "# good example\n",
    "a = 1 + 1"
   ]
  },
  {
   "cell_type": "markdown",
   "metadata": {},
   "source": [
    "- Write comments when the function of a code block is not obvious"
   ]
  },
  {
   "cell_type": "code",
   "execution_count": 2,
   "metadata": {},
   "outputs": [
    {
     "data": {
      "text/plain": [
       "findOneRoots (generic function with 1 method)"
      ]
     },
     "execution_count": 2,
     "metadata": {},
     "output_type": "execute_result"
    }
   ],
   "source": [
    "# find one root of a*x^2 + b*x + c = 0\n",
    "function findOneRoots(a, b, c)\n",
    "    discriminant = sqrt(b^2 - (4*a*c))\n",
    "    rootLeft = (-b - discriminant)/2a\n",
    "    return rootLeft\n",
    "end"
   ]
  },
  {
   "cell_type": "markdown",
   "metadata": {},
   "source": [
    "- More to come: indent, naming convention, break long lines, etc."
   ]
  },
  {
   "cell_type": "markdown",
   "metadata": {},
   "source": [
    "## Use jupyter notebook\n",
    "\n",
    "- Order of code blocks != order of running. example:"
   ]
  },
  {
   "cell_type": "code",
   "execution_count": 3,
   "metadata": {},
   "outputs": [
    {
     "data": {
      "text/plain": [
       "1"
      ]
     },
     "execution_count": 3,
     "metadata": {},
     "output_type": "execute_result"
    }
   ],
   "source": [
    "a = 1"
   ]
  },
  {
   "cell_type": "code",
   "execution_count": 4,
   "metadata": {},
   "outputs": [
    {
     "data": {
      "text/plain": [
       "2"
      ]
     },
     "execution_count": 4,
     "metadata": {},
     "output_type": "execute_result"
    }
   ],
   "source": [
    "b = a + 1"
   ]
  },
  {
   "cell_type": "code",
   "execution_count": 5,
   "metadata": {},
   "outputs": [
    {
     "data": {
      "text/plain": [
       "2"
      ]
     },
     "execution_count": 5,
     "metadata": {},
     "output_type": "execute_result"
    }
   ],
   "source": [
    "a = 2"
   ]
  },
  {
   "cell_type": "markdown",
   "metadata": {},
   "source": [
    "How to clear a messy history: restart kernel.\n",
    "\n",
    "- code/markdown mode.\n",
    "\n",
    "- file management, create new file, upload/download file.\n",
    "\n",
    "- helpful shortcuts, UI tour."
   ]
  },
  {
   "cell_type": "markdown",
   "metadata": {},
   "source": [
    "## Why data type?\n",
    "\n",
    "- Main reason: save memory"
   ]
  },
  {
   "cell_type": "code",
   "execution_count": 6,
   "metadata": {},
   "outputs": [
    {
     "name": "stdout",
     "output_type": "stream",
     "text": [
      "1\n",
      "8\n"
     ]
    }
   ],
   "source": [
    "println(sizeof(Int8(1)))\n",
    "\n",
    "println(sizeof(Float64(1)))"
   ]
  },
  {
   "cell_type": "markdown",
   "metadata": {},
   "source": [
    "- Also: for precision. e.g. floating point operations usually introduce round off errors but integer operations are usually safe. We will learn more about this in the future."
   ]
  }
 ],
 "metadata": {
  "kernelspec": {
   "display_name": "Julia 1.5.3",
   "language": "julia",
   "name": "julia-1.5"
  },
  "language_info": {
   "file_extension": ".jl",
   "mimetype": "application/julia",
   "name": "julia",
   "version": "1.5.3"
  }
 },
 "nbformat": 4,
 "nbformat_minor": 4
}
